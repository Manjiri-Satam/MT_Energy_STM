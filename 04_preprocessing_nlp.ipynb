{
  "nbformat": 4,
  "nbformat_minor": 0,
  "metadata": {
    "colab": {
      "provenance": [],
      "gpuType": "T4"
    },
    "kernelspec": {
      "name": "python3",
      "display_name": "Python 3"
    },
    "language_info": {
      "name": "python"
    },
    "accelerator": "GPU"
  },
  "cells": [
    {
      "cell_type": "markdown",
      "source": [
        "Goal for 04_preprocessing_nlp.ipynb\n",
        "\n",
        "Take the translated output from 03_remove_french_translate.ipynb:\n",
        "\n",
        "Then do text cleaning on translated description:\n",
        "\n",
        "-\tLowercasing\n",
        "-\tRemove special characters\n",
        "-\tRemove stopwords\n",
        "-\tTokenization (simple whitespace split)\n",
        "-\tSave final cleaned text ready for STM"
      ],
      "metadata": {
        "id": "v2NI8E7xhh1Q"
      }
    },
    {
      "cell_type": "code",
      "execution_count": null,
      "metadata": {
        "id": "oevKTqXLgy1v"
      },
      "outputs": [],
      "source": [
        "import pandas as pd\n",
        "import re\n",
        "import nltk\n",
        "import spacy\n",
        "from nltk.corpus import stopwords\n",
        "from nltk.stem import WordNetLemmatizer\n",
        "from nltk.tokenize import word_tokenize\n",
        "from tqdm import tqdm"
      ]
    },
    {
      "cell_type": "code",
      "source": [
        "nltk.download('punkt')\n",
        "nltk.download('stopwords')\n",
        "nltk.download('wordnet')\n",
        "nltk.download('punkt_tab')"
      ],
      "metadata": {
        "colab": {
          "base_uri": "https://localhost:8080/"
        },
        "id": "kxCDC9ifktaL",
        "outputId": "f5583731-d525-47e6-d3e5-1c1eb16c5418"
      },
      "execution_count": null,
      "outputs": [
        {
          "output_type": "stream",
          "name": "stderr",
          "text": [
            "[nltk_data] Downloading package punkt to /root/nltk_data...\n",
            "[nltk_data]   Package punkt is already up-to-date!\n",
            "[nltk_data] Downloading package stopwords to /root/nltk_data...\n",
            "[nltk_data]   Package stopwords is already up-to-date!\n",
            "[nltk_data] Downloading package wordnet to /root/nltk_data...\n",
            "[nltk_data]   Package wordnet is already up-to-date!\n",
            "[nltk_data] Downloading package punkt_tab to /root/nltk_data...\n",
            "[nltk_data]   Package punkt_tab is already up-to-date!\n"
          ]
        },
        {
          "output_type": "execute_result",
          "data": {
            "text/plain": [
              "True"
            ]
          },
          "metadata": {},
          "execution_count": 41
        }
      ]
    },
    {
      "cell_type": "code",
      "source": [
        "tqdm.pandas()"
      ],
      "metadata": {
        "id": "vvWJCNQzi79n"
      },
      "execution_count": null,
      "outputs": []
    },
    {
      "cell_type": "code",
      "source": [
        "# Download NLTK stopwords\n",
        "nltk.download('stopwords')"
      ],
      "metadata": {
        "colab": {
          "base_uri": "https://localhost:8080/"
        },
        "id": "nnbr7ooIi_hS",
        "outputId": "a077757c-d716-4d28-c7ee-1c0f1ab79112"
      },
      "execution_count": null,
      "outputs": [
        {
          "output_type": "stream",
          "name": "stderr",
          "text": [
            "[nltk_data] Downloading package stopwords to /root/nltk_data...\n",
            "[nltk_data]   Package stopwords is already up-to-date!\n"
          ]
        },
        {
          "output_type": "execute_result",
          "data": {
            "text/plain": [
              "True"
            ]
          },
          "metadata": {},
          "execution_count": 43
        }
      ]
    },
    {
      "cell_type": "code",
      "source": [
        "# Load English stopwords\n",
        "stop_words = set(stopwords.words('english'))"
      ],
      "metadata": {
        "id": "OgwTYNUDjE6E"
      },
      "execution_count": null,
      "outputs": []
    },
    {
      "cell_type": "code",
      "source": [
        "lemmatizer = WordNetLemmatizer()"
      ],
      "metadata": {
        "id": "LoGl-XNnjwfX"
      },
      "execution_count": null,
      "outputs": []
    },
    {
      "cell_type": "code",
      "source": [
        "# Step 1: Load the translated dataset\n",
        "df = pd.read_csv('/content/energy_text_trn.csv')\n",
        "print(f\"Loaded {len(df)} records for NLP preprocessing.\")"
      ],
      "metadata": {
        "colab": {
          "base_uri": "https://localhost:8080/"
        },
        "id": "wSF_0PBUjHwN",
        "outputId": "22f9f39f-224d-4395-e0e6-bca4ba5caade"
      },
      "execution_count": null,
      "outputs": [
        {
          "output_type": "stream",
          "name": "stdout",
          "text": [
            "Loaded 64212 records for NLP preprocessing.\n"
          ]
        }
      ]
    },
    {
      "cell_type": "code",
      "source": [
        "# Step 2: Basic cleaning - lowercase, remove non-alphabetic characters, remove extra spaces\n",
        "def clean_text(text):\n",
        "    if pd.isnull(text):\n",
        "        return \"\"\n",
        "    text = text.lower()  # lowercase\n",
        "    text = re.sub(r'[^a-zA-Z\\s]', '', text)  # remove non-alphabetic characters\n",
        "    text = re.sub(r'\\s+', ' ', text).strip()  # remove extra spaces\n",
        "    tokens = word_tokenize(text)\n",
        "    tokens = [lemmatizer.lemmatize(w) for w in tokens if w not in stop_words]\n",
        "    return ' '.join(tokens)"
      ],
      "metadata": {
        "id": "TTi3ggPhjm3b"
      },
      "execution_count": null,
      "outputs": []
    },
    {
      "cell_type": "code",
      "source": [
        "df.columns"
      ],
      "metadata": {
        "colab": {
          "base_uri": "https://localhost:8080/"
        },
        "id": "laf-9XY7kHVH",
        "outputId": "ce214f6f-1468-4b78-81ec-f818b3f5eb04"
      },
      "execution_count": null,
      "outputs": [
        {
          "output_type": "execute_result",
          "data": {
            "text/plain": [
              "Index(['Year', 'CrsID', 'ProjectTitle', 'Bi_Multi', 'SectorCode',\n",
              "       'LongDescription', 'ClimateMitigation', 'ClimateAdaptation',\n",
              "       'DonorName', 'RecipientName', 'RegionName', 'IncomegroupName',\n",
              "       'USD_Commitment', 'USD_Disbursement', 'USD_Received', 'DonorContinent',\n",
              "       'RecipientContinent', 'LD_Eng', 'FrenchPartRemoved', 'DetectedLanguage',\n",
              "       'TranslatedDescription', 'DetectedLanguage_tr', 'LD_clean',\n",
              "       'word_count'],\n",
              "      dtype='object')"
            ]
          },
          "metadata": {},
          "execution_count": 54
        }
      ]
    },
    {
      "cell_type": "code",
      "source": [
        "df['LD_clean'] = df['TranslatedDescription'].apply(clean_text)"
      ],
      "metadata": {
        "id": "T5diROwWkIm0"
      },
      "execution_count": null,
      "outputs": []
    },
    {
      "cell_type": "code",
      "source": [
        "df.columns"
      ],
      "metadata": {
        "colab": {
          "base_uri": "https://localhost:8080/"
        },
        "id": "OYMbNpttl6iT",
        "outputId": "2b0c34ce-cca8-4938-d8f8-9f36baa31950"
      },
      "execution_count": null,
      "outputs": [
        {
          "output_type": "execute_result",
          "data": {
            "text/plain": [
              "Index(['Year', 'CrsID', 'ProjectTitle', 'Bi_Multi', 'SectorCode',\n",
              "       'LongDescription', 'ClimateMitigation', 'ClimateAdaptation',\n",
              "       'DonorName', 'RecipientName', 'RegionName', 'IncomegroupName',\n",
              "       'USD_Commitment', 'USD_Disbursement', 'USD_Received', 'DonorContinent',\n",
              "       'RecipientContinent', 'LD_Eng', 'FrenchPartRemoved', 'DetectedLanguage',\n",
              "       'TranslatedDescription', 'DetectedLanguage_tr', 'LD_clean',\n",
              "       'word_count'],\n",
              "      dtype='object')"
            ]
          },
          "metadata": {},
          "execution_count": 56
        }
      ]
    },
    {
      "cell_type": "code",
      "source": [
        "df['word_count'] = df['LongDescription'].astype(str).str.split().str.len()\n",
        "df[df['word_count'] > 100][[\"LongDescription\", \"TranslatedDescription\", \"LD_clean\"]].head()"
      ],
      "metadata": {
        "colab": {
          "base_uri": "https://localhost:8080/",
          "height": 2116
        },
        "id": "qN3M-RAFlhTD",
        "outputId": "a9666a4d-2079-4f60-e4be-2b663726170d"
      },
      "execution_count": null,
      "outputs": [
        {
          "output_type": "execute_result",
          "data": {
            "text/plain": [
              "                                       LongDescription  \\\n",
              "37   Background:  Comme pour toute l'Afrique, la pr...   \n",
              "38   Background:  Comme pour toute l'Afrique, la pr...   \n",
              "39   There is growing interest in the potential for...   \n",
              "259  Lake Chad is situated in the poverty stricken ...   \n",
              "276  Background:  The Junior Professional Officers ...   \n",
              "\n",
              "                                 TranslatedDescription  \\\n",
              "37   Background: As with all of Africa, production ...   \n",
              "38   Background: As with all of Africa, production ...   \n",
              "39   There is growing interest in the potential for...   \n",
              "259  Lake Chad is situated in the poverty stricken ...   \n",
              "276  Background:  The Junior Professional Officers ...   \n",
              "\n",
              "                                              LD_clean  \n",
              "37   background africa production access energy maj...  \n",
              "38   background africa production access energy maj...  \n",
              "39   growing interest potential ecosystem serviceba...  \n",
              "259  lake chad situated poverty stricken sahel regi...  \n",
              "276  background junior professional officer jpo pro...  "
            ],
            "text/html": [
              "\n",
              "  <div id=\"df-be1cca31-61eb-444a-b736-80c54328a4f2\" class=\"colab-df-container\">\n",
              "    <div>\n",
              "<style scoped>\n",
              "    .dataframe tbody tr th:only-of-type {\n",
              "        vertical-align: middle;\n",
              "    }\n",
              "\n",
              "    .dataframe tbody tr th {\n",
              "        vertical-align: top;\n",
              "    }\n",
              "\n",
              "    .dataframe thead th {\n",
              "        text-align: right;\n",
              "    }\n",
              "</style>\n",
              "<table border=\"1\" class=\"dataframe\">\n",
              "  <thead>\n",
              "    <tr style=\"text-align: right;\">\n",
              "      <th></th>\n",
              "      <th>LongDescription</th>\n",
              "      <th>TranslatedDescription</th>\n",
              "      <th>LD_clean</th>\n",
              "    </tr>\n",
              "  </thead>\n",
              "  <tbody>\n",
              "    <tr>\n",
              "      <th>37</th>\n",
              "      <td>Background:  Comme pour toute l'Afrique, la pr...</td>\n",
              "      <td>Background: As with all of Africa, production ...</td>\n",
              "      <td>background africa production access energy maj...</td>\n",
              "    </tr>\n",
              "    <tr>\n",
              "      <th>38</th>\n",
              "      <td>Background:  Comme pour toute l'Afrique, la pr...</td>\n",
              "      <td>Background: As with all of Africa, production ...</td>\n",
              "      <td>background africa production access energy maj...</td>\n",
              "    </tr>\n",
              "    <tr>\n",
              "      <th>39</th>\n",
              "      <td>There is growing interest in the potential for...</td>\n",
              "      <td>There is growing interest in the potential for...</td>\n",
              "      <td>growing interest potential ecosystem serviceba...</td>\n",
              "    </tr>\n",
              "    <tr>\n",
              "      <th>259</th>\n",
              "      <td>Lake Chad is situated in the poverty stricken ...</td>\n",
              "      <td>Lake Chad is situated in the poverty stricken ...</td>\n",
              "      <td>lake chad situated poverty stricken sahel regi...</td>\n",
              "    </tr>\n",
              "    <tr>\n",
              "      <th>276</th>\n",
              "      <td>Background:  The Junior Professional Officers ...</td>\n",
              "      <td>Background:  The Junior Professional Officers ...</td>\n",
              "      <td>background junior professional officer jpo pro...</td>\n",
              "    </tr>\n",
              "  </tbody>\n",
              "</table>\n",
              "</div>\n",
              "    <div class=\"colab-df-buttons\">\n",
              "\n",
              "  <div class=\"colab-df-container\">\n",
              "    <button class=\"colab-df-convert\" onclick=\"convertToInteractive('df-be1cca31-61eb-444a-b736-80c54328a4f2')\"\n",
              "            title=\"Convert this dataframe to an interactive table.\"\n",
              "            style=\"display:none;\">\n",
              "\n",
              "  <svg xmlns=\"http://www.w3.org/2000/svg\" height=\"24px\" viewBox=\"0 -960 960 960\">\n",
              "    <path d=\"M120-120v-720h720v720H120Zm60-500h600v-160H180v160Zm220 220h160v-160H400v160Zm0 220h160v-160H400v160ZM180-400h160v-160H180v160Zm440 0h160v-160H620v160ZM180-180h160v-160H180v160Zm440 0h160v-160H620v160Z\"/>\n",
              "  </svg>\n",
              "    </button>\n",
              "\n",
              "  <style>\n",
              "    .colab-df-container {\n",
              "      display:flex;\n",
              "      gap: 12px;\n",
              "    }\n",
              "\n",
              "    .colab-df-convert {\n",
              "      background-color: #E8F0FE;\n",
              "      border: none;\n",
              "      border-radius: 50%;\n",
              "      cursor: pointer;\n",
              "      display: none;\n",
              "      fill: #1967D2;\n",
              "      height: 32px;\n",
              "      padding: 0 0 0 0;\n",
              "      width: 32px;\n",
              "    }\n",
              "\n",
              "    .colab-df-convert:hover {\n",
              "      background-color: #E2EBFA;\n",
              "      box-shadow: 0px 1px 2px rgba(60, 64, 67, 0.3), 0px 1px 3px 1px rgba(60, 64, 67, 0.15);\n",
              "      fill: #174EA6;\n",
              "    }\n",
              "\n",
              "    .colab-df-buttons div {\n",
              "      margin-bottom: 4px;\n",
              "    }\n",
              "\n",
              "    [theme=dark] .colab-df-convert {\n",
              "      background-color: #3B4455;\n",
              "      fill: #D2E3FC;\n",
              "    }\n",
              "\n",
              "    [theme=dark] .colab-df-convert:hover {\n",
              "      background-color: #434B5C;\n",
              "      box-shadow: 0px 1px 3px 1px rgba(0, 0, 0, 0.15);\n",
              "      filter: drop-shadow(0px 1px 2px rgba(0, 0, 0, 0.3));\n",
              "      fill: #FFFFFF;\n",
              "    }\n",
              "  </style>\n",
              "\n",
              "    <script>\n",
              "      const buttonEl =\n",
              "        document.querySelector('#df-be1cca31-61eb-444a-b736-80c54328a4f2 button.colab-df-convert');\n",
              "      buttonEl.style.display =\n",
              "        google.colab.kernel.accessAllowed ? 'block' : 'none';\n",
              "\n",
              "      async function convertToInteractive(key) {\n",
              "        const element = document.querySelector('#df-be1cca31-61eb-444a-b736-80c54328a4f2');\n",
              "        const dataTable =\n",
              "          await google.colab.kernel.invokeFunction('convertToInteractive',\n",
              "                                                    [key], {});\n",
              "        if (!dataTable) return;\n",
              "\n",
              "        const docLinkHtml = 'Like what you see? Visit the ' +\n",
              "          '<a target=\"_blank\" href=https://colab.research.google.com/notebooks/data_table.ipynb>data table notebook</a>'\n",
              "          + ' to learn more about interactive tables.';\n",
              "        element.innerHTML = '';\n",
              "        dataTable['output_type'] = 'display_data';\n",
              "        await google.colab.output.renderOutput(dataTable, element);\n",
              "        const docLink = document.createElement('div');\n",
              "        docLink.innerHTML = docLinkHtml;\n",
              "        element.appendChild(docLink);\n",
              "      }\n",
              "    </script>\n",
              "  </div>\n",
              "\n",
              "\n",
              "    <div id=\"df-c1555286-db7d-4e5a-bf30-08f41c57fa0b\">\n",
              "      <button class=\"colab-df-quickchart\" onclick=\"quickchart('df-c1555286-db7d-4e5a-bf30-08f41c57fa0b')\"\n",
              "                title=\"Suggest charts\"\n",
              "                style=\"display:none;\">\n",
              "\n",
              "<svg xmlns=\"http://www.w3.org/2000/svg\" height=\"24px\"viewBox=\"0 0 24 24\"\n",
              "     width=\"24px\">\n",
              "    <g>\n",
              "        <path d=\"M19 3H5c-1.1 0-2 .9-2 2v14c0 1.1.9 2 2 2h14c1.1 0 2-.9 2-2V5c0-1.1-.9-2-2-2zM9 17H7v-7h2v7zm4 0h-2V7h2v10zm4 0h-2v-4h2v4z\"/>\n",
              "    </g>\n",
              "</svg>\n",
              "      </button>\n",
              "\n",
              "<style>\n",
              "  .colab-df-quickchart {\n",
              "      --bg-color: #E8F0FE;\n",
              "      --fill-color: #1967D2;\n",
              "      --hover-bg-color: #E2EBFA;\n",
              "      --hover-fill-color: #174EA6;\n",
              "      --disabled-fill-color: #AAA;\n",
              "      --disabled-bg-color: #DDD;\n",
              "  }\n",
              "\n",
              "  [theme=dark] .colab-df-quickchart {\n",
              "      --bg-color: #3B4455;\n",
              "      --fill-color: #D2E3FC;\n",
              "      --hover-bg-color: #434B5C;\n",
              "      --hover-fill-color: #FFFFFF;\n",
              "      --disabled-bg-color: #3B4455;\n",
              "      --disabled-fill-color: #666;\n",
              "  }\n",
              "\n",
              "  .colab-df-quickchart {\n",
              "    background-color: var(--bg-color);\n",
              "    border: none;\n",
              "    border-radius: 50%;\n",
              "    cursor: pointer;\n",
              "    display: none;\n",
              "    fill: var(--fill-color);\n",
              "    height: 32px;\n",
              "    padding: 0;\n",
              "    width: 32px;\n",
              "  }\n",
              "\n",
              "  .colab-df-quickchart:hover {\n",
              "    background-color: var(--hover-bg-color);\n",
              "    box-shadow: 0 1px 2px rgba(60, 64, 67, 0.3), 0 1px 3px 1px rgba(60, 64, 67, 0.15);\n",
              "    fill: var(--button-hover-fill-color);\n",
              "  }\n",
              "\n",
              "  .colab-df-quickchart-complete:disabled,\n",
              "  .colab-df-quickchart-complete:disabled:hover {\n",
              "    background-color: var(--disabled-bg-color);\n",
              "    fill: var(--disabled-fill-color);\n",
              "    box-shadow: none;\n",
              "  }\n",
              "\n",
              "  .colab-df-spinner {\n",
              "    border: 2px solid var(--fill-color);\n",
              "    border-color: transparent;\n",
              "    border-bottom-color: var(--fill-color);\n",
              "    animation:\n",
              "      spin 1s steps(1) infinite;\n",
              "  }\n",
              "\n",
              "  @keyframes spin {\n",
              "    0% {\n",
              "      border-color: transparent;\n",
              "      border-bottom-color: var(--fill-color);\n",
              "      border-left-color: var(--fill-color);\n",
              "    }\n",
              "    20% {\n",
              "      border-color: transparent;\n",
              "      border-left-color: var(--fill-color);\n",
              "      border-top-color: var(--fill-color);\n",
              "    }\n",
              "    30% {\n",
              "      border-color: transparent;\n",
              "      border-left-color: var(--fill-color);\n",
              "      border-top-color: var(--fill-color);\n",
              "      border-right-color: var(--fill-color);\n",
              "    }\n",
              "    40% {\n",
              "      border-color: transparent;\n",
              "      border-right-color: var(--fill-color);\n",
              "      border-top-color: var(--fill-color);\n",
              "    }\n",
              "    60% {\n",
              "      border-color: transparent;\n",
              "      border-right-color: var(--fill-color);\n",
              "    }\n",
              "    80% {\n",
              "      border-color: transparent;\n",
              "      border-right-color: var(--fill-color);\n",
              "      border-bottom-color: var(--fill-color);\n",
              "    }\n",
              "    90% {\n",
              "      border-color: transparent;\n",
              "      border-bottom-color: var(--fill-color);\n",
              "    }\n",
              "  }\n",
              "</style>\n",
              "\n",
              "      <script>\n",
              "        async function quickchart(key) {\n",
              "          const quickchartButtonEl =\n",
              "            document.querySelector('#' + key + ' button');\n",
              "          quickchartButtonEl.disabled = true;  // To prevent multiple clicks.\n",
              "          quickchartButtonEl.classList.add('colab-df-spinner');\n",
              "          try {\n",
              "            const charts = await google.colab.kernel.invokeFunction(\n",
              "                'suggestCharts', [key], {});\n",
              "          } catch (error) {\n",
              "            console.error('Error during call to suggestCharts:', error);\n",
              "          }\n",
              "          quickchartButtonEl.classList.remove('colab-df-spinner');\n",
              "          quickchartButtonEl.classList.add('colab-df-quickchart-complete');\n",
              "        }\n",
              "        (() => {\n",
              "          let quickchartButtonEl =\n",
              "            document.querySelector('#df-c1555286-db7d-4e5a-bf30-08f41c57fa0b button');\n",
              "          quickchartButtonEl.style.display =\n",
              "            google.colab.kernel.accessAllowed ? 'block' : 'none';\n",
              "        })();\n",
              "      </script>\n",
              "    </div>\n",
              "\n",
              "    </div>\n",
              "  </div>\n"
            ],
            "application/vnd.google.colaboratory.intrinsic+json": {
              "type": "dataframe",
              "summary": "{\n  \"name\": \"df[df['word_count'] > 100][[\\\"LongDescription\\\", \\\"TranslatedDescription\\\", \\\"LD_clean\\\"]]\",\n  \"rows\": 5,\n  \"fields\": [\n    {\n      \"column\": \"LongDescription\",\n      \"properties\": {\n        \"dtype\": \"string\",\n        \"num_unique_values\": 5,\n        \"samples\": [\n          \"Background:  Comme pour toute l'Afrique, la production et l'acc\\u00e8s \\u00e0 l'\\u00e9nergie sont de grands enjeux pour le d\\u00e9veloppement du Rwanda. Ces enjeux font partie des priorit\\u00e9s du Rwanda. Ainsi, l'\\u00e9nergie est une des priorit\\u00e9s de la \\u00ab Vision 2020 \\u00bb, par laquelle le Rwanda cherche \\u00e0 devenir un pays \\u00e0 revenus moyens en 2020. Cette vision se traduit en divers plans strat\\u00e9giques dont le dernier est l'Economic Development and Poverty Reduction Strategy II (EDPRS II 2012 -2017) qui explique que \\u00ab la croissance \\u00e9conomique, parmi d'autres choses, sera pouss\\u00e9e par la fourniture ininterrompue d'\\u00e9nergie \\u00e0 des prix qui seront stables et r\\u00e9gionalement comp\\u00e9titifs \\u00bb. L'acc\\u00e8s \\u00e0 des sources modernes d'\\u00e9nergie \\u00e0 des prix abordables sera crucial si le pays veut r\\u00e9aliser ses objectifs de d\\u00e9veloppement. Cette volont\\u00e9 se traduit dans le plan strat\\u00e9gique sectoriel 2013 -2018 (Annexe 8) o\\u00f9 le Rwanda vise un mix \\u00e9nerg\\u00e9tique au niveau de la production et une augmentation de l'acc\\u00e8s \\u00e0 l'\\u00e9nergie. En regard de l'EDPRS II, le plan strat\\u00e9gique pr\\u00e9voit 1) une augmentation des capacit\\u00e9s de production \\u00e9lectrique, notamment au travers des \\u00e9nergies renouvelables, 2) une augmentation de l'acc\\u00e8s \\u00e0 l'\\u00e9lectricit\\u00e9, 3) de garantir et de maintenir des tarifs comp\\u00e9titifs au niveau r\\u00e9gional. La Strat\\u00e9gie du Rwanda est donc de garantir la \\u00ab provision de fournitures \\u00e9nerg\\u00e9tiques en suffisance, fiables et abordables pour tous les Rwandais \\u00bb. La Belgique appuie la production et l'acc\\u00e8s \\u00e0 l'\\u00e9lectricit\\u00e9 depuis quelques ann\\u00e9es, au travers de ses interventions dans le \\u00ab secteur \\u00bb du d\\u00e9veloppement rural. Ainsi, elle a permis la construction par exemple de microcentrales hydro\\u00e9lectriques ou de lignes \\u00e9lectriques. En 2011, un Programme Indicatif de Coop\\u00e9ration a \\u00e9t\\u00e9 sign\\u00e9. L'un des secteurs de concentration est d\\u00e9sormais l'\\u00e9nergie, \\u00e0 hauteur de 55 millions d'euros. La pr\\u00e9sente intervention concerne plus sp\\u00e9cifiquement le renforcement des capacit\\u00e9s d'EWSA \\u2013 Energy, Water and Sanitation Agency, le renforcement des capacit\\u00e9s \\u00e9tant une priorit\\u00e9 transversale du PIC, et est abord\\u00e9e au travers d'un appui direct au Public Sector Capacity Building Secretariat (PSCBS, devenu NCBS) et au travers d'appuis sectoriels.Des interventions sont pr\\u00e9vues en parall\\u00e8les \\u00e0 la pr\\u00e9sente intervention dans le domaine de la production g\\u00e9othermique d'\\u00e9lectricit\\u00e9 (27 millions d'euros), et l'acc\\u00e8s \\u00e0 l'\\u00e9lectricit\\u00e9 (appui au programme national EARP Electricity Access Roll -out Program \\u2013 17 millions d'euros).Le renforcement des capacit\\u00e9s est essentiel pour le d\\u00e9veloppement du Rwanda en g\\u00e9n\\u00e9ral, et du secteur de l'\\u00e9nergie en particulier. Les r\\u00e9alisations attendues par le plan strat\\u00e9gique sectoriel 2013 -2018 ne seront r\\u00e9alisables que si, en plus des appuis \\u00e0 la production et \\u00e0 l'acc\\u00e8s, une attention est accord\\u00e9e au renforcement des capacit\\u00e9s et \\u00e0 la maintenance. Le d\\u00e9veloppement des capacit\\u00e9s est consid\\u00e9r\\u00e9 comme un \\u00e9l\\u00e9ment crucial de la strat\\u00e9gie EDPRS II. C'est ce que vise la pr\\u00e9sente intervention. En outre, on constate que beaucoup de bail\",\n          \"Background:  The Junior Professional Officers (JPO) Programme, also known as the Associate Experts Programme, is a multilateral technical cooperation initiative sponsored by the Directorate General for Development Cooperation and Humanitarian Aid of Belgium. The Programme originaates from a United Nations Economic and Social Council resolution adopted in 1961 which approved and encouraged the collaboration of volunteers, financed by their respective countries of origin, in implementing development cooperation initiatives and programmes. Belgium joined the Programme in 1963, and over the years has developed it into a Programme, extending its sponsorship to the Multilateral partnerl organizations with which the Belgian Government stipulated in specific agreements. - General objective:  The overall objectives of the JPO programme  -It s s a good learning experience for young people to work within a multilateral agency and hopefully make their career there. -to increase the visibility of Belgian Nationals within the UN Organizations -to provide the organizations additional human resources - Specific objective:  Essential Qualifications and Experience required for this position: -Master s Degree or equivalent in environmental sciences or management, environmental economics, sustainable devolpment or related field -At least 2 years of relevant work experience at the national or international level in providing management advisory services and hands -on experience in design, monitoring and evaluation of environment and energy projects.Key competencies of the assignment: -demonstrated knowledge of climate change adaptation and mitigation strategies in developing countries, watershed management, biodiversity conservation and land management strategies - Results:  Upon completion of the assignment, the JPO will have/be able to: -will have an in depth knowledge and analytical overview of the development realities and challenges in Peru (and in the region in general) -will be able to design, appraise and oversee development projects/programs addressing environmental and energy related issues, -will be familiar with UNDP and UN System program orientation in environmental and sustainable development -will have enhanced her/his communication and negociating skills as well as problem solving capacity -\",\n          \"There is growing interest in the potential for ecosystem service-based approaches to contribute to poverty alleviation and advance sustainable and equitable development. This project aims to deepen our understanding of the links between ecosystem services, human well-being, and poverty in southern Africa, and evaluate the implications for ecosystem service based poverty alleviation strategies (ESBPAS). The project is organized around two PhD-projects at two linked scales that focus on i) ecosystem service bundles and their links to well-being and poverty, and ii) the role of cultural ecosystem services in contributing to well-being amongst the poor. We will combine qualitative and quantitative approaches, including GIS analyses, statistical modelling, surveys, PhotoVoice and focus group interviews. The project will build on an earlier u-Forsk project in the Eastern Cape of South Africa and include new sites in Mozambique. A substantive synthesis component is aimed at developing new cross-cutting insights on ecosystem service-human well-being links at different scales and the potential for combining ESBPAS to increase their impact on multiple dimensions of human well-being. The project also aims to build capacity and further develop science-policy networks through SAPECS, a regional network of scientists, practitioners and students engaged in comparative social-ecological syntheses to support improved stewardship of ecosystem services and poverty alleviation in the region.\"\n        ],\n        \"semantic_type\": \"\",\n        \"description\": \"\"\n      }\n    },\n    {\n      \"column\": \"TranslatedDescription\",\n      \"properties\": {\n        \"dtype\": \"string\",\n        \"num_unique_values\": 5,\n        \"samples\": [\n          \"Background: As with all of Africa, production and access to energy are major challenges for the development of Rwanda.These issues are part of Rwanda priorities.Thus, energy is one of the priorities of \\\"vision 2020\\\", by which Rwanda seeks to become a country with average income in 2020. This vision is reflected in various strategic plans, the last of which is the Economic Development and Poverty Reduction Strategy II (EDPRS II 2012 -2017) which explains that \\\"economic growth, among other things, will be pushed by uninterrupted energy suppliesregionally competitive \\u201d.Access to modern energy sources at affordable prices will be crucial if the country wants to achieve its development objectives.This desire is reflected in the 2013-2018 sectoral strategic plan (Annex 8) where Rwanda targets an energy mix in terms of production and an increase in access to energy.With regard to the EDPRS II, the strategic plan provides 1) an increase in electricity production capacities, in particular through renewable energies, 2) an increase in access to electricity, 3) to guarantee and maintain competitive prices at the regional level.Rwanda's strategy is therefore to guarantee the \\\"provision of sufficient energy supplies, reliable and affordable for all Rwandans\\\".Belgium has supported production and access to electricity for a few years, through its interventions in the \\\"sector\\\" of rural development.Thus, it allowed the construction, for example, of hydroelectric microchentrals or electric lines.In 2011, an indicative cooperation program was signed.One of the concentration sectors is now energy, up to 55 million euros.This intervention concerns more specifically the capacity building of EWSA - Energy, Water and Sanitation Agency, capacity building being a transversal priority of the peak, and is discussed through direct support to the public Sector Capacity Building Secretariat (PSCBS, now NCBS) and through sectoral supports.Geothermal electricity production (27 million euros), and access to electricity (support for the National EARP Electricity Access Roll -Out Program -17 million euros). The capacity building is essential for the development of Rwanda in general, and the energy sector in particular.The achievements expected by the 2013-2018 sectoral strategic plan will only be achievable if, in addition to production and access support, attention is paid to capacity building and maintenance.The development of capacities is considered to be a crucial element of the EDPRS II strategy.This is what this intervention targets.In addition, we see that a lot of leases\",\n          \"Background:  The Junior Professional Officers (JPO) Programme, also known as the Associate Experts Programme, is a multilateral technical cooperation initiative sponsored by the Directorate General for Development Cooperation and Humanitarian Aid of Belgium. The Programme originaates from a United Nations Economic and Social Council resolution adopted in 1961 which approved and encouraged the collaboration of volunteers, financed by their respective countries of origin, in implementing development cooperation initiatives and programmes. Belgium joined the Programme in 1963, and over the years has developed it into a Programme, extending its sponsorship to the Multilateral partnerl organizations with which the Belgian Government stipulated in specific agreements. - General objective:  The overall objectives of the JPO programme  -It s s a good learning experience for young people to work within a multilateral agency and hopefully make their career there. -to increase the visibility of Belgian Nationals within the UN Organizations -to provide the organizations additional human resources - Specific objective:  Essential Qualifications and Experience required for this position: -Master s Degree or equivalent in environmental sciences or management, environmental economics, sustainable devolpment or related field -At least 2 years of relevant work experience at the national or international level in providing management advisory services and hands -on experience in design, monitoring and evaluation of environment and energy projects.Key competencies of the assignment: -demonstrated knowledge of climate change adaptation and mitigation strategies in developing countries, watershed management, biodiversity conservation and land management strategies - Results:  Upon completion of the assignment, the JPO will have/be able to: -will have an in depth knowledge and analytical overview of the development realities and challenges in Peru (and in the region in general) -will be able to design, appraise and oversee development projects/programs addressing environmental and energy related issues, -will be familiar with UNDP and UN System program orientation in environmental and sustainable development -will have enhanced her/his communication and negociating skills as well as problem solving capacity -\",\n          \"There is growing interest in the potential for ecosystem service-based approaches to contribute to poverty alleviation and advance sustainable and equitable development. This project aims to deepen our understanding of the links between ecosystem services, human well-being, and poverty in southern Africa, and evaluate the implications for ecosystem service based poverty alleviation strategies (ESBPAS). The project is organized around two PhD-projects at two linked scales that focus on i) ecosystem service bundles and their links to well-being and poverty, and ii) the role of cultural ecosystem services in contributing to well-being amongst the poor. We will combine qualitative and quantitative approaches, including GIS analyses, statistical modelling, surveys, PhotoVoice and focus group interviews. The project will build on an earlier u-Forsk project in the Eastern Cape of South Africa and include new sites in Mozambique. A substantive synthesis component is aimed at developing new cross-cutting insights on ecosystem service-human well-being links at different scales and the potential for combining ESBPAS to increase their impact on multiple dimensions of human well-being. The project also aims to build capacity and further develop science-policy networks through SAPECS, a regional network of scientists, practitioners and students engaged in comparative social-ecological syntheses to support improved stewardship of ecosystem services and poverty alleviation in the region.\"\n        ],\n        \"semantic_type\": \"\",\n        \"description\": \"\"\n      }\n    },\n    {\n      \"column\": \"LD_clean\",\n      \"properties\": {\n        \"dtype\": \"string\",\n        \"num_unique_values\": 5,\n        \"samples\": [\n          \"background africa production access energy major challenge development rwandathese issue part rwanda prioritiesthus energy one priority vision rwanda seek become country average income vision reflected various strategic plan last economic development poverty reduction strategy ii edprs ii explains economic growth among thing pushed uninterrupted energy suppliesregionally competitive access modern energy source affordable price crucial country want achieve development objectivesthis desire reflected sectoral strategic plan annex rwanda target energy mix term production increase access energywith regard edprs ii strategic plan provides increase electricity production capacity particular renewable energy increase access electricity guarantee maintain competitive price regional levelrwandas strategy therefore guarantee provision sufficient energy supply reliable affordable rwandansbelgium supported production access electricity year intervention sector rural developmentthus allowed construction example hydroelectric microchentrals electric linesin indicative cooperation program signedone concentration sector energy million eurosthis intervention concern specifically capacity building ewsa energy water sanitation agency capacity building transversal priority peak discussed direct support public sector capacity building secretariat pscbs ncbs sectoral supportsgeothermal electricity production million euro access electricity support national earp electricity access roll program million euro capacity building essential development rwanda general energy sector particularthe achievement expected sectoral strategic plan achievable addition production access support attention paid capacity building maintenancethe development capacity considered crucial element edprs ii strategythis intervention targetsin addition see lot lease\",\n          \"background junior professional officer jpo programme also known associate expert programme multilateral technical cooperation initiative sponsored directorate general development cooperation humanitarian aid belgium programme originaates united nation economic social council resolution adopted approved encouraged collaboration volunteer financed respective country origin implementing development cooperation initiative programme belgium joined programme year developed programme extending sponsorship multilateral partnerl organization belgian government stipulated specific agreement general objective overall objective jpo programme good learning experience young people work within multilateral agency hopefully make career increase visibility belgian national within un organization provide organization additional human resource specific objective essential qualification experience required position master degree equivalent environmental science management environmental economics sustainable devolpment related field least year relevant work experience national international level providing management advisory service hand experience design monitoring evaluation environment energy projectskey competency assignment demonstrated knowledge climate change adaptation mitigation strategy developing country watershed management biodiversity conservation land management strategy result upon completion assignment jpo havebe able depth knowledge analytical overview development reality challenge peru region general able design appraise oversee development projectsprograms addressing environmental energy related issue familiar undp un system program orientation environmental sustainable development enhanced herhis communication negociating skill well problem solving capacity\",\n          \"growing interest potential ecosystem servicebased approach contribute poverty alleviation advance sustainable equitable development project aim deepen understanding link ecosystem service human wellbeing poverty southern africa evaluate implication ecosystem service based poverty alleviation strategy esbpas project organized around two phdprojects two linked scale focus ecosystem service bundle link wellbeing poverty ii role cultural ecosystem service contributing wellbeing amongst poor combine qualitative quantitative approach including gi analysis statistical modelling survey photovoice focus group interview project build earlier uforsk project eastern cape south africa include new site mozambique substantive synthesis component aimed developing new crosscutting insight ecosystem servicehuman wellbeing link different scale potential combining esbpas increase impact multiple dimension human wellbeing project also aim build capacity develop sciencepolicy network sapecs regional network scientist practitioner student engaged comparative socialecological synthesis support improved stewardship ecosystem service poverty alleviation region\"\n        ],\n        \"semantic_type\": \"\",\n        \"description\": \"\"\n      }\n    }\n  ]\n}"
            }
          },
          "metadata": {},
          "execution_count": 57
        }
      ]
    },
    {
      "cell_type": "code",
      "source": [
        "df.to_csv('/content/energy_clean.csv', index=False)\n",
        "print(f\"Final {len(df)} records for STM Modelling.\")"
      ],
      "metadata": {
        "colab": {
          "base_uri": "https://localhost:8080/"
        },
        "id": "x78Gcn4skj1r",
        "outputId": "162ed97e-8c1a-4fec-fb84-8084ea7dfd64"
      },
      "execution_count": null,
      "outputs": [
        {
          "output_type": "stream",
          "name": "stdout",
          "text": [
            "Final 64212 records for STM Modelling.\n"
          ]
        }
      ]
    }
  ]
}